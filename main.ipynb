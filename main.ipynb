{
 "cells": [
  {
   "cell_type": "code",
   "execution_count": null,
   "metadata": {},
   "outputs": [],
   "source": [
    "\n",
    "pip install pandas_datareader"
   ]
  },
  {
   "cell_type": "code",
   "execution_count": null,
   "metadata": {},
   "outputs": [],
   "source": [
    "pip install jdatetime"
   ]
  },
  {
   "cell_type": "code",
   "execution_count": null,
   "metadata": {},
   "outputs": [],
   "source": [
    " pip install persiantools"
   ]
  },
  {
   "cell_type": "code",
   "execution_count": 1,
   "metadata": {},
   "outputs": [],
   "source": [
    "import glob\n",
    "import pandas as pd\n",
    "from persiantools.jdatetime import JalaliDate\n",
    "import numpy as np\n",
    "import matplotlib.pyplot as plt\n",
    "import random\n",
    "import pandas as pd\n",
    "import numpy as np\n",
    "import matplotlib.pyplot as plt\n",
    "import pandas_datareader as web"
   ]
  },
  {
   "cell_type": "code",
   "execution_count": 3,
   "metadata": {
    "scrolled": true
   },
   "outputs": [],
   "source": [
    "list_of_dfs=[]\n",
    "for file_name in glob.iglob(r'./data/*.csv'):\n",
    "    list_of_dfs.append(pd.read_csv(file_name))\n",
    "len(list_of_dfs)\n",
    "portfolio = list_of_dfs[0].rename(columns={'<CLOSE>': '0'})\n",
    "portfolio = portfolio['0']\n"
   ]
  },
  {
   "cell_type": "code",
   "execution_count": null,
   "metadata": {},
   "outputs": [],
   "source": []
  },
  {
   "cell_type": "code",
   "execution_count": 4,
   "metadata": {},
   "outputs": [
    {
     "data": {
      "text/plain": [
       "[23, 12, 29, 20, 19, 27, 2, 23, 11]"
      ]
     },
     "execution_count": 4,
     "metadata": {},
     "output_type": "execute_result"
    }
   ],
   "source": [
    "random_list = [random.randrange(1, 30, 1) for i in range(9)]\n",
    "weights = np.array([0.1, 0.1, 0.1, 0.1, 0.1, 0.1, 0.1, 0.1, 0.1,0.1])\n",
    "\n",
    "random_list"
   ]
  },
  {
   "cell_type": "code",
   "execution_count": 5,
   "metadata": {},
   "outputs": [],
   "source": [
    "\n",
    "for item in random_list:\n",
    "    portfolio_new = list_of_dfs[item].rename(columns={'<CLOSE>': f'{item}'})\n",
    "    daily_return = portfolio_new[f'{item}']\n",
    "    portfolio = pd.concat([portfolio,daily_return], axis=1)\n"
   ]
  },
  {
   "cell_type": "code",
   "execution_count": 6,
   "metadata": {},
   "outputs": [],
   "source": [
    "return_pct_change = portfolio.pct_change()\n",
    "cov_matrix_d = return_pct_change.cov()\n",
    "weights = np.array([0.1, 0.1, 0.1, 0.1, 0.1, 0.1, 0.1, 0.1, 0.1, 0.1])\n",
    "port_variance = np.dot(weights.T, np.dot(cov_matrix_d, weights))"
   ]
  },
  {
   "cell_type": "code",
   "execution_count": 9,
   "metadata": {},
   "outputs": [
    {
     "data": {
      "text/plain": [
       "0.00014739206988554376"
      ]
     },
     "execution_count": 9,
     "metadata": {},
     "output_type": "execute_result"
    }
   ],
   "source": [
    "port_variance"
   ]
  },
  {
   "cell_type": "code",
   "execution_count": 10,
   "metadata": {},
   "outputs": [],
   "source": [
    "variance_list = []\n",
    "for i in range(1, 1000):\n",
    "    portfolio = list_of_dfs[0].rename(columns={'<CLOSE>': '0'})\n",
    "    portfolio = portfolio['0']\n",
    "    random_list = [random.randrange(1, 30, 1) for i in range(9)]\n",
    "    weights = np.array([0.1, 0.1, 0.1, 0.1, 0.1, 0.1, 0.1, 0.1, 0.1,0.1])\n",
    "    for item in random_list:\n",
    "        portfolio_new = list_of_dfs[item].rename(columns={'<CLOSE>': f'{item}'})\n",
    "        daily_return = portfolio_new[f'{item}']\n",
    "        portfolio = pd.concat([portfolio,daily_return], axis=1)\n",
    "    return_pct_change = portfolio.pct_change()\n",
    "    cov_matrix_d = return_pct_change.cov()\n",
    "    port_variance = np.dot(weights.T, np.dot(cov_matrix_d, weights))\n",
    "    variance_list.append(port_variance)\n",
    "    "
   ]
  },
  {
   "cell_type": "code",
   "execution_count": 12,
   "metadata": {},
   "outputs": [
    {
     "data": {
      "text/plain": [
       "0.0006810316447658099"
      ]
     },
     "execution_count": 12,
     "metadata": {},
     "output_type": "execute_result"
    }
   ],
   "source": [
    "average = sum(variance_list) / len(variance_list)\n",
    "average"
   ]
  },
  {
   "cell_type": "code",
   "execution_count": null,
   "metadata": {},
   "outputs": [],
   "source": []
  }
 ],
 "metadata": {
  "kernelspec": {
   "display_name": "Python 3",
   "language": "python",
   "name": "python3"
  },
  "language_info": {
   "codemirror_mode": {
    "name": "ipython",
    "version": 3
   },
   "file_extension": ".py",
   "mimetype": "text/x-python",
   "name": "python",
   "nbconvert_exporter": "python",
   "pygments_lexer": "ipython3",
   "version": "3.8.5"
  }
 },
 "nbformat": 4,
 "nbformat_minor": 4
}
