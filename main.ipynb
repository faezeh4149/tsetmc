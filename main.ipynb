{
 "cells": [
  {
   "cell_type": "code",
   "execution_count": null,
   "metadata": {},
   "outputs": [],
   "source": [
    "\n",
    "pip install pandas_datareader"
   ]
  },
  {
   "cell_type": "code",
   "execution_count": null,
   "metadata": {},
   "outputs": [],
   "source": [
    "pip install jdatetime"
   ]
  },
  {
   "cell_type": "code",
   "execution_count": null,
   "metadata": {},
   "outputs": [],
   "source": [
    " pip install persiantools"
   ]
  },
  {
   "cell_type": "code",
   "execution_count": 3,
   "metadata": {},
   "outputs": [],
   "source": [
    "import glob\n",
    "import pandas as pd\n",
    "from persiantools.jdatetime import JalaliDate\n",
    "import numpy as np\n",
    "import matplotlib.pyplot as plt\n",
    "import random\n",
    "import pandas as pd\n",
    "import numpy as np\n",
    "import matplotlib.pyplot as plt\n",
    "import pandas_datareader as web"
   ]
  },
  {
   "cell_type": "code",
   "execution_count": 4,
   "metadata": {
    "scrolled": true
   },
   "outputs": [],
   "source": [
    "list_of_dfs=[]\n",
    "for file_name in glob.iglob(r'./data/*.csv'):\n",
    "    list_of_dfs.append(pd.read_csv(file_name))\n",
    "\n"
   ]
  },
  {
   "cell_type": "code",
   "execution_count": null,
   "metadata": {},
   "outputs": [],
   "source": []
  },
  {
   "cell_type": "code",
   "execution_count": null,
   "metadata": {},
   "outputs": [],
   "source": []
  },
  {
   "cell_type": "code",
   "execution_count": null,
   "metadata": {},
   "outputs": [],
   "source": [
    "\n"
   ]
  },
  {
   "cell_type": "code",
   "execution_count": null,
   "metadata": {},
   "outputs": [],
   "source": []
  },
  {
   "cell_type": "code",
   "execution_count": null,
   "metadata": {},
   "outputs": [],
   "source": []
  },
  {
   "cell_type": "code",
   "execution_count": null,
   "metadata": {},
   "outputs": [],
   "source": []
  },
  {
   "cell_type": "code",
   "execution_count": null,
   "metadata": {},
   "outputs": [],
   "source": [
    "\n",
    "\n",
    "def risk_p(n,covMatrix):\n",
    "    \n",
    "    \n",
    "    initial_weight=[1/n]*n \n",
    "    weight=np.array(initial_weight)\n",
    "\n",
    "    portfolio_variance = np.dot(weight.T,np.dot(covMatrix, weight))\n",
    "\n",
    "\n",
    "    portfolio_risk = np.sqrt(portfolio_variance)\n",
    "    \n",
    "\n",
    "    \n",
    "    return(portfolio_risk)\n",
    "\n"
   ]
  },
  {
   "cell_type": "code",
   "execution_count": 7,
   "metadata": {},
   "outputs": [],
   "source": [
    "from statistics import mean"
   ]
  },
  {
   "cell_type": "code",
   "execution_count": 21,
   "metadata": {},
   "outputs": [],
   "source": [
    "variance_list = []\n",
    "risk_list = []\n",
    "risk_mean = []\n",
    "for i in range(1, 31):\n",
    "    portfolio = list_of_dfs[0].rename(columns={'<CLOSE>': '0'})\n",
    "    portfolio = portfolio['0']\n",
    "    if i > 1 :\n",
    "        random_list = [random.randrange(1, 30, 1) for i in range(i-1)]\n",
    "        weight = 1 / (len(random_list) +1)\n",
    "        weight_array = weight * np.ones(len(random_list) +1)\n",
    "        for item in random_list:\n",
    "            portfolio_new = list_of_dfs[item].rename(columns={'<CLOSE>': f'{item}'})\n",
    "            daily_return = portfolio_new[f'{item}']\n",
    "            portfolio = pd.concat([portfolio,daily_return], axis=1)\n",
    "        return_pct_change = portfolio.pct_change()\n",
    "        cov_matrix_d = return_pct_change.cov()\n",
    "        port_variance = np.dot(weight_array.T, np.dot(cov_matrix_d, weight_array))\n",
    "        portfolio_risk = np.sqrt(port_variance)\n",
    "        variance_list.append(port_variance)\n",
    "        risk_list.append(portfolio_risk)\n",
    "\n",
    "        sgm= mean(risk_list)\n",
    "\n",
    "        risk_mean.append(sgm)\n"
   ]
  },
  {
   "cell_type": "code",
   "execution_count": null,
   "metadata": {},
   "outputs": [],
   "source": []
  },
  {
   "cell_type": "code",
   "execution_count": 22,
   "metadata": {},
   "outputs": [
    {
     "data": {
      "text/plain": [
       "[<matplotlib.lines.Line2D at 0x7f3fa1951580>]"
      ]
     },
     "execution_count": 22,
     "metadata": {},
     "output_type": "execute_result"
    },
    {
     "data": {
      "image/png": "[encoded data removed]",
      "text/plain": [
       "<Figure size 432x288 with 1 Axes>"
      ]
     },
     "metadata": {
      "needs_background": "light"
     },
     "output_type": "display_data"
    }
   ],
   "source": [
    "plt.plot(risk_mean)"
   ]
  },
  {
   "cell_type": "code",
   "execution_count": null,
   "metadata": {},
   "outputs": [],
   "source": []
  }
 ],
 "metadata": {
  "kernelspec": {
   "display_name": "Python 3",
   "language": "python",
   "name": "python3"
  },
  "language_info": {
   "codemirror_mode": {
    "name": "ipython",
    "version": 3
   },
   "file_extension": ".py",
   "mimetype": "text/x-python",
   "name": "python",
   "nbconvert_exporter": "python",
   "pygments_lexer": "ipython3",
   "version": "3.8.5"
  }
 },
 "nbformat": 4,
 "nbformat_minor": 4
}
